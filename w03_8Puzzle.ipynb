{
  "cells": [
    {
      "cell_type": "markdown",
      "metadata": {
        "id": "view-in-github",
        "colab_type": "text"
      },
      "source": [
        "<a href=\"https://colab.research.google.com/github/tpunamiya/tpunamiya.github.io/blob/main/w03_8Puzzle.ipynb\" target=\"_parent\"><img src=\"https://colab.research.google.com/assets/colab-badge.svg\" alt=\"Open In Colab\"/></a>"
      ]
    },
    {
      "cell_type": "markdown",
      "metadata": {
        "id": "45LBN30Rpj9v"
      },
      "source": [
        "# Example: 8 Puzzle Problems\n",
        "\n",
        "![](https://ece.uwaterloo.ca/~dwharder/aads/Algorithms/N_puzzles/images/puz3.png)\n",
        "\n",
        "A sliding tile puzzle where you can swap the blank with an adjacent piece, trying to reach a **goal configuration**. The cells are numbered 0 to 8, starting at the top left and going row by row left to right. The pieces are numbered 1 to 8, with 0 representing the blank. An **action** is the cell index number that is to be swapped with the blank (*not* the actual number to be swapped but the index into the state). So the diagram above left is the state `(5, 2, 7, 8, 4, 0, 1, 3, 6)`, and the action is `8`, because the cell number 8 (the 9th or last cell, the `6` in the bottom right) is swapped with the blank.\n",
        "\n",
        "There are two disjoint sets of states that cannot be reached from each other. One set has an even number of **inversions**; the other has an odd number. An **inversion** is when a piece in the state is larger than a piece that follows it.\n",
        "\n",
        "This example shows how to i) model the 8 puzzle problem based on abstract classes for `Problem` and `Node`; ii) apply different heuristic functions; and iii) solve the problem using the **A\\* search** algorithm.\n"
      ]
    },
    {
      "cell_type": "code",
      "execution_count": 23,
      "metadata": {
        "id": "-n7HoBZEpgQl"
      },
      "outputs": [],
      "source": [
        "# importing necessary libraries\n",
        "%matplotlib inline\n",
        "import matplotlib.pyplot as plt\n",
        "import random\n",
        "import heapq\n",
        "import math\n",
        "import sys\n",
        "from collections import defaultdict, deque, Counter\n",
        "from itertools import combinations"
      ]
    },
    {
      "cell_type": "markdown",
      "metadata": {
        "id": "eRtwGoLHaXFI"
      },
      "source": [
        "## Abstract classes for Problem and Node"
      ]
    },
    {
      "cell_type": "code",
      "execution_count": 24,
      "metadata": {
        "id": "VWY7EPxhplaa"
      },
      "outputs": [],
      "source": [
        "# Abstract class Problem\n",
        "class Problem(object):\n",
        "    \"\"\"The abstract class for a formal problem. A new domain subclasses this,\n",
        "    overriding `actions` and `results`, and perhaps other methods.\n",
        "    The default heuristic is 0 and the default action cost is 1 for all states.\n",
        "    When yiou create an instance of a subclass, specify `initial`, and `goal` states\n",
        "    (or give an `is_goal` method) and perhaps other keyword args for the subclass.\"\"\"\n",
        "\n",
        "    def __init__(self, initial=None, goal=None, **kwds):\n",
        "        self.__dict__.update(initial=initial, goal=goal, **kwds)\n",
        "# init is a function that defines a class\n",
        "    def actions(self, state):        raise NotImplementedError\n",
        "    def result(self, state, action): raise NotImplementedError\n",
        "    def is_goal(self, state):        return state == self.goal\n",
        "    def action_cost(self, s, a, s1): return 1\n",
        "    def h(self, node):               return 0\n",
        "\n",
        "    def __str__(self):\n",
        "        return '{}({!r}, {!r})'.format(\n",
        "            type(self).__name__, self.initial, self.goal)"
      ]
    },
    {
      "cell_type": "code",
      "execution_count": 25,
      "metadata": {
        "id": "JlYk5EyS17Xb"
      },
      "outputs": [],
      "source": [
        "# Abstract class Node\n",
        "class Node:\n",
        "    \"A Node in a search tree.\"\n",
        "    def __init__(self, state, parent=None, action=None, path_cost=0):\n",
        "        self.__dict__.update(state=state, parent=parent, action=action, path_cost=path_cost)\n",
        "\n",
        "    def __repr__(self): return '<{}>'.format(self.state)\n",
        "    def __len__(self): return 0 if self.parent is None else (1 + len(self.parent))\n",
        "    def __lt__(self, other): return self.path_cost < other.path_cost\n",
        "\n",
        "# Indicates an algorithm couldn't find a solution\n",
        "failure = Node('failure', path_cost=math.inf)\n",
        "# Indicates iterative deepening search was cut off\n",
        "cutoff  = Node('cutoff',  path_cost=math.inf)\n",
        "\n",
        "def expand(problem, node):\n",
        "    \"Expand a node, generating the children nodes.\"\n",
        "    # retrieve the state of current node\n",
        "    s = node.state\n",
        "    # check all available actions at a particular state (node)\n",
        "    for action in problem.actions(s):\n",
        "        # next state (s1) after applying the chosen action at the state (s)\n",
        "        s1 = problem.result(s, action)\n",
        "        # add the cost to reach state s1\n",
        "        cost = node.path_cost + problem.action_cost(s, action, s1)\n",
        "        # return a tuple with the next state, the current node, action and cost\n",
        "        yield Node(s1, node, action, cost)\n",
        "\n",
        "# sequence of actions to reach a particular node\n",
        "# useful for building the solution path\n",
        "def path_actions(node):\n",
        "    \"The sequence of actions to get to this node.\"\n",
        "    if node.parent is None:\n",
        "        return []\n",
        "    return path_actions(node.parent) + [node.action]\n",
        "\n",
        "# sequence of states to reach a particular node\n",
        "# useful for building the solution path\n",
        "def path_states(node):\n",
        "    \"The sequence of states to get to this node.\"\n",
        "    if node in (cutoff, failure, None):\n",
        "        return []\n",
        "    return path_states(node.parent) + [node.state]"
      ]
    },
    {
      "cell_type": "markdown",
      "metadata": {
        "id": "fEtUXAJf17Z_"
      },
      "source": [
        "## Priority Queue, Best-first search and A* search"
      ]
    },
    {
      "cell_type": "code",
      "execution_count": 15,
      "metadata": {
        "id": "Y04EgJtSqTVI"
      },
      "outputs": [],
      "source": [
        "FIFOQueue = deque\n",
        "LIFOQueue = list\n",
        "\n",
        "# base class implementing a priority queue used for finding the action with minimum cost\n",
        "class PriorityQueue:\n",
        "    \"\"\"A queue in which the item with minimum f(item) is always popped first.\"\"\"\n",
        "\n",
        "    def __init__(self, items=(), key=lambda x: x):\n",
        "        self.key = key\n",
        "        # a heap of (score, item) pairs\n",
        "        self.items = []\n",
        "        for item in items:\n",
        "            self.add(item)\n",
        "\n",
        "    def add(self, item):\n",
        "        \"\"\"Add item to the queue.\"\"\"\n",
        "        pair = (self.key(item), item)\n",
        "        heapq.heappush(self.items, pair)\n",
        "\n",
        "    def pop(self):\n",
        "        \"\"\"Pop and return the item with min f(item) value.\"\"\"\n",
        "        return heapq.heappop(self.items)[1]\n",
        "\n",
        "    def top(self): return self.items[0][1]\n",
        "\n",
        "    def __len__(self): return len(self.items)"
      ]
    },
    {
      "cell_type": "markdown",
      "metadata": {
        "id": "4z1XsJAMc4V0"
      },
      "source": [
        "Complete the following best-first search code yourself with hints provided. The complete solution can be found at the end of the notebook."
      ]
    },
    {
      "cell_type": "code",
      "execution_count": 28,
      "metadata": {
        "id": "xFON8sKKqTXt"
      },
      "outputs": [],
      "source": [
        "# (Generic) Best-first search: selects a node for expansion according to an evaluation function\n",
        "def best_first_search(problem, f):\n",
        "    \"Search nodes with minimum f(node) value first.\"\n",
        "    node = Node(problem.initial)\n",
        "    frontier = PriorityQueue([node], key=f)\n",
        "    reached = {problem.initial: node}   # reached dictionary format {state: node}\n",
        "    pruned = set()  # a set of pruned nodes\n",
        "    # iterate over the nodes in the frontier\n",
        "    while frontier:\n",
        "        # pick a node from frontier - based on the PriorityQueue\n",
        "        node = frontier.pop()\n",
        "\n",
        "        # if the node is in the pruned set, we ignore this, and move on in the frontier\n",
        "        if node in pruned:\n",
        "          continue\n",
        "\n",
        "        # test for goal state\n",
        "        if problem.is_goal(node.state):\n",
        "           return node\n",
        "\n",
        "        # if not goal, expand all child nodes\n",
        "        for child in expand(problem, node):\n",
        "            pass # delete this\n",
        "\n",
        "            # check expand(problem, node) in class Node\n",
        "            # retrieve child node's state\n",
        "            s = child.state\n",
        "\n",
        "            # if child node state not visited before\n",
        "            # add child node to visited set\n",
        "            # add child node to the frontier (for future expansion)\n",
        "            if s not in reached:\n",
        "              reached[s] = child\n",
        "              frontier.add(child)\n",
        "\n",
        "\n",
        "            # elseif child node state has been visited before but our new path cost is smaller\n",
        "            # add the original node (visited before) to the pruned set\n",
        "            # update state: child node in dictionary\n",
        "            # add child node to the frontier (for future expansion)\n",
        "            elif child.path_cost < reached[s].path_cost:\n",
        "              pruned.add(reached[s])\n",
        "              reached[s] = child\n",
        "              frontier.add(child)\n",
        "\n",
        "    return failure"
      ]
    },
    {
      "cell_type": "code",
      "execution_count": 17,
      "metadata": {
        "id": "vLx8hgO6qTaT"
      },
      "outputs": [],
      "source": [
        "# helper function used by A* for keeping track of the actual path cost\n",
        "def g(n): return n.path_cost"
      ]
    },
    {
      "cell_type": "markdown",
      "metadata": {
        "id": "Q8FE51Uxgevs"
      },
      "source": [
        "Complete the following A* search code. The complete solution can be found at the end of the notebook.\n",
        "\n"
      ]
    },
    {
      "cell_type": "code",
      "execution_count": 29,
      "metadata": {
        "id": "5A9yqpTNqTc6"
      },
      "outputs": [],
      "source": [
        "# A* method with parameterizable heuristic h, which is either supplied externally, or defined within the problem class\n",
        "def astar_search(problem, h=None):\n",
        "    \"\"\"Search nodes with minimum f(n) = g(n) + h(n).\"\"\"\n",
        "    h = h or problem.h\n",
        "    return best_first_search(problem, f=lambda n: g(n) + h(n))"
      ]
    },
    {
      "cell_type": "markdown",
      "metadata": {
        "id": "IesepU5ThrN-"
      },
      "source": [
        "## Problem-specific class - EightPuzzle\n"
      ]
    },
    {
      "cell_type": "markdown",
      "metadata": {
        "id": "TDoembKVnI9C"
      },
      "source": [
        "Complete the Manhattan distance heuristic in `def h2(self, node)` below. The solution can be found at the end of the notebook."
      ]
    },
    {
      "cell_type": "code",
      "execution_count": 31,
      "metadata": {
        "id": "XYWSfyLpplcw"
      },
      "outputs": [],
      "source": [
        "# Problem-specific class - EightPuzzle\n",
        "class EightPuzzle(Problem):\n",
        "    \"\"\" The problem of sliding tiles numbered from 1 to 8 on a 3x3 board,\n",
        "    where one of the squares is a blank, trying to reach a goal configuration.\n",
        "    A board state is represented as a tuple of length 9, where the element at index i\n",
        "    represents the tile number at index i, or 0 if for the empty square, e.g. the goal:\n",
        "        1 2 3\n",
        "        4 5 6 ==> (1, 2, 3, 4, 5, 6, 7, 8, 0)\n",
        "        7 8 _\n",
        "    \"\"\"\n",
        "\n",
        "    # we can modify the desired goal state to any other puzzle configuration\n",
        "    def __init__(self, initial, goal=(0, 1, 2, 3, 4, 5, 6, 7, 8)):\n",
        "        # parity check\n",
        "        assert inversions(initial) % 2 == inversions(goal) % 2\n",
        "        self.initial, self.goal = initial, goal\n",
        "\n",
        "    def actions(self, state):\n",
        "        \"\"\"The indexes of the squares that the blank can move to. 0 is top left corner, etc.\"\"\"\n",
        "        moves = ((1, 3),    (0, 2, 4),    (1, 5),\n",
        "                 (0, 4, 6), (1, 3, 5, 7), (2, 4, 8),\n",
        "                 (3, 7),    (4, 6, 8),    (7, 5))\n",
        "        blank = state.index(0)\n",
        "        return moves[blank]\n",
        "\n",
        "    def result(self, state, action):\n",
        "        \"\"\"Swap the blank with the square numbered `action`.\"\"\"\n",
        "        s = list(state)\n",
        "        blank = state.index(0)\n",
        "        s[action], s[blank] = s[blank], s[action]\n",
        "        return tuple(s)\n",
        "\n",
        "    def h1(self, node):\n",
        "        \"\"\"The misplaced tiles heuristic. All out: 8.\"\"\"\n",
        "        return sum(s != g for (s, g) in zip(node.state, self.goal) if s != 0)\n",
        "\n",
        "    def h2(self, node):\n",
        "        \"\"\"The Manhattan distance heuristic.\"\"\"\n",
        "        pass   # delete this\n",
        "        # <YOUR CODE HERE>\n",
        "\n",
        "\n",
        "    # Choose h2 to be the default heuristic. You can try h1 as well.\n",
        "    def h(self, node):\n",
        "      return self.h2(node)\n",
        "\n",
        "\n",
        "\n",
        "# helper functions\n",
        "def inversions(board):\n",
        "    \"The number of times a piece is a smaller number than a following piece.\"\n",
        "    return sum((a > b and a != 0 and b != 0) for (a, b) in combinations(board, 2))\n",
        "\n",
        "# A string representing of an 8-puzzle board\n",
        "def board8(board, fmt=(3 * '{} {} {}\\n')):\n",
        "    \"A string representing of an 8-puzzle board\"\n",
        "    return fmt.format(*board).replace('0', '_')\n",
        "\n",
        "# board implementation - for visualisation\n",
        "class Board(defaultdict):\n",
        "    empty = '.'\n",
        "    off = '#'\n",
        "\n",
        "    def __init__(self, board=None, width=8, height=8, to_move=None, **kwds):\n",
        "        if board is not None:\n",
        "            self.update(board)\n",
        "            self.width, self.height = (board.width, board.height)\n",
        "        else:\n",
        "            self.width, self.height = (width, height)\n",
        "        self.to_move = to_move\n",
        "\n",
        "    def __missing__(self, key):\n",
        "        x, y = key\n",
        "        if x < 0 or x >= self.width or y < 0 or y >= self.height:\n",
        "            return self.off\n",
        "        else:\n",
        "            return self.empty\n",
        "\n",
        "    def __repr__(self):\n",
        "        def row(y): return ' '.join(self[x, y] for x in range(self.width))\n",
        "        return '\\n'.join(row(y) for y in range(self.height))\n",
        "\n",
        "    def __hash__(self):\n",
        "        return hash(tuple(sorted(self.items()))) + hash(self.to_move)"
      ]
    },
    {
      "cell_type": "code",
      "execution_count": 32,
      "metadata": {
        "id": "PpB5y5YJplfX"
      },
      "outputs": [],
      "source": [
        "# Some specific EightPuzzle problems\n",
        "e1 = EightPuzzle((1, 4, 2, 0, 7, 5, 3, 6, 8))\n",
        "e2 = EightPuzzle((1, 2, 3, 4, 5, 6, 7, 8, 0))\n",
        "e3 = EightPuzzle((4, 0, 2, 5, 1, 3, 7, 8, 6))\n",
        "e4 = EightPuzzle((7, 2, 4, 5, 0, 6, 8, 3, 1))\n",
        "e5 = EightPuzzle((8, 6, 7, 2, 5, 4, 3, 0, 1))"
      ]
    },
    {
      "cell_type": "code",
      "execution_count": 33,
      "metadata": {
        "id": "Eg5Ww0qFl5_r",
        "outputId": "d3abd14c-cf37-4367-c0c1-15aeb7fb0b72",
        "colab": {
          "base_uri": "https://localhost:8080/",
          "height": 316
        }
      },
      "outputs": [
        {
          "output_type": "error",
          "ename": "TypeError",
          "evalue": "unsupported operand type(s) for +: 'int' and 'NoneType'",
          "traceback": [
            "\u001b[0;31m---------------------------------------------------------------------------\u001b[0m",
            "\u001b[0;31mTypeError\u001b[0m                                 Traceback (most recent call last)",
            "\u001b[0;32m/tmp/ipython-input-1047463070.py\u001b[0m in \u001b[0;36m<cell line: 0>\u001b[0;34m()\u001b[0m\n\u001b[1;32m      1\u001b[0m \u001b[0;31m# Solve an 8 puzzle problems and count the number of moves\u001b[0m\u001b[0;34m\u001b[0m\u001b[0;34m\u001b[0m\u001b[0m\n\u001b[0;32m----> 2\u001b[0;31m \u001b[0mlen\u001b[0m\u001b[0;34m(\u001b[0m\u001b[0mpath_states\u001b[0m\u001b[0;34m(\u001b[0m\u001b[0mastar_search\u001b[0m\u001b[0;34m(\u001b[0m\u001b[0me5\u001b[0m\u001b[0;34m)\u001b[0m\u001b[0;34m)\u001b[0m\u001b[0;34m)\u001b[0m \u001b[0;34m-\u001b[0m \u001b[0;36m1\u001b[0m   \u001b[0;31m# why do we need to -1 here?\u001b[0m\u001b[0;34m\u001b[0m\u001b[0;34m\u001b[0m\u001b[0m\n\u001b[0m",
            "\u001b[0;32m/tmp/ipython-input-3463782677.py\u001b[0m in \u001b[0;36mastar_search\u001b[0;34m(problem, h)\u001b[0m\n\u001b[1;32m      3\u001b[0m     \u001b[0;34m\"\"\"Search nodes with minimum f(n) = g(n) + h(n).\"\"\"\u001b[0m\u001b[0;34m\u001b[0m\u001b[0;34m\u001b[0m\u001b[0m\n\u001b[1;32m      4\u001b[0m     \u001b[0mh\u001b[0m \u001b[0;34m=\u001b[0m \u001b[0mh\u001b[0m \u001b[0;32mor\u001b[0m \u001b[0mproblem\u001b[0m\u001b[0;34m.\u001b[0m\u001b[0mh\u001b[0m\u001b[0;34m\u001b[0m\u001b[0;34m\u001b[0m\u001b[0m\n\u001b[0;32m----> 5\u001b[0;31m     \u001b[0;32mreturn\u001b[0m \u001b[0mbest_first_search\u001b[0m\u001b[0;34m(\u001b[0m\u001b[0mproblem\u001b[0m\u001b[0;34m,\u001b[0m \u001b[0mf\u001b[0m\u001b[0;34m=\u001b[0m\u001b[0;32mlambda\u001b[0m \u001b[0mn\u001b[0m\u001b[0;34m:\u001b[0m \u001b[0mg\u001b[0m\u001b[0;34m(\u001b[0m\u001b[0mn\u001b[0m\u001b[0;34m)\u001b[0m \u001b[0;34m+\u001b[0m \u001b[0mh\u001b[0m\u001b[0;34m(\u001b[0m\u001b[0mn\u001b[0m\u001b[0;34m)\u001b[0m\u001b[0;34m)\u001b[0m\u001b[0;34m\u001b[0m\u001b[0;34m\u001b[0m\u001b[0m\n\u001b[0m",
            "\u001b[0;32m/tmp/ipython-input-3907053230.py\u001b[0m in \u001b[0;36mbest_first_search\u001b[0;34m(problem, f)\u001b[0m\n\u001b[1;32m      3\u001b[0m     \u001b[0;34m\"Search nodes with minimum f(node) value first.\"\u001b[0m\u001b[0;34m\u001b[0m\u001b[0;34m\u001b[0m\u001b[0m\n\u001b[1;32m      4\u001b[0m     \u001b[0mnode\u001b[0m \u001b[0;34m=\u001b[0m \u001b[0mNode\u001b[0m\u001b[0;34m(\u001b[0m\u001b[0mproblem\u001b[0m\u001b[0;34m.\u001b[0m\u001b[0minitial\u001b[0m\u001b[0;34m)\u001b[0m\u001b[0;34m\u001b[0m\u001b[0;34m\u001b[0m\u001b[0m\n\u001b[0;32m----> 5\u001b[0;31m     \u001b[0mfrontier\u001b[0m \u001b[0;34m=\u001b[0m \u001b[0mPriorityQueue\u001b[0m\u001b[0;34m(\u001b[0m\u001b[0;34m[\u001b[0m\u001b[0mnode\u001b[0m\u001b[0;34m]\u001b[0m\u001b[0;34m,\u001b[0m \u001b[0mkey\u001b[0m\u001b[0;34m=\u001b[0m\u001b[0mf\u001b[0m\u001b[0;34m)\u001b[0m\u001b[0;34m\u001b[0m\u001b[0;34m\u001b[0m\u001b[0m\n\u001b[0m\u001b[1;32m      6\u001b[0m     \u001b[0mreached\u001b[0m \u001b[0;34m=\u001b[0m \u001b[0;34m{\u001b[0m\u001b[0mproblem\u001b[0m\u001b[0;34m.\u001b[0m\u001b[0minitial\u001b[0m\u001b[0;34m:\u001b[0m \u001b[0mnode\u001b[0m\u001b[0;34m}\u001b[0m   \u001b[0;31m# reached dictionary format {state: node}\u001b[0m\u001b[0;34m\u001b[0m\u001b[0;34m\u001b[0m\u001b[0m\n\u001b[1;32m      7\u001b[0m     \u001b[0mpruned\u001b[0m \u001b[0;34m=\u001b[0m \u001b[0mset\u001b[0m\u001b[0;34m(\u001b[0m\u001b[0;34m)\u001b[0m  \u001b[0;31m# a set of pruned nodes\u001b[0m\u001b[0;34m\u001b[0m\u001b[0;34m\u001b[0m\u001b[0m\n",
            "\u001b[0;32m/tmp/ipython-input-1272592575.py\u001b[0m in \u001b[0;36m__init__\u001b[0;34m(self, items, key)\u001b[0m\n\u001b[1;32m     11\u001b[0m         \u001b[0mself\u001b[0m\u001b[0;34m.\u001b[0m\u001b[0mitems\u001b[0m \u001b[0;34m=\u001b[0m \u001b[0;34m[\u001b[0m\u001b[0;34m]\u001b[0m\u001b[0;34m\u001b[0m\u001b[0;34m\u001b[0m\u001b[0m\n\u001b[1;32m     12\u001b[0m         \u001b[0;32mfor\u001b[0m \u001b[0mitem\u001b[0m \u001b[0;32min\u001b[0m \u001b[0mitems\u001b[0m\u001b[0;34m:\u001b[0m\u001b[0;34m\u001b[0m\u001b[0;34m\u001b[0m\u001b[0m\n\u001b[0;32m---> 13\u001b[0;31m             \u001b[0mself\u001b[0m\u001b[0;34m.\u001b[0m\u001b[0madd\u001b[0m\u001b[0;34m(\u001b[0m\u001b[0mitem\u001b[0m\u001b[0;34m)\u001b[0m\u001b[0;34m\u001b[0m\u001b[0;34m\u001b[0m\u001b[0m\n\u001b[0m\u001b[1;32m     14\u001b[0m \u001b[0;34m\u001b[0m\u001b[0m\n\u001b[1;32m     15\u001b[0m     \u001b[0;32mdef\u001b[0m \u001b[0madd\u001b[0m\u001b[0;34m(\u001b[0m\u001b[0mself\u001b[0m\u001b[0;34m,\u001b[0m \u001b[0mitem\u001b[0m\u001b[0;34m)\u001b[0m\u001b[0;34m:\u001b[0m\u001b[0;34m\u001b[0m\u001b[0;34m\u001b[0m\u001b[0m\n",
            "\u001b[0;32m/tmp/ipython-input-1272592575.py\u001b[0m in \u001b[0;36madd\u001b[0;34m(self, item)\u001b[0m\n\u001b[1;32m     15\u001b[0m     \u001b[0;32mdef\u001b[0m \u001b[0madd\u001b[0m\u001b[0;34m(\u001b[0m\u001b[0mself\u001b[0m\u001b[0;34m,\u001b[0m \u001b[0mitem\u001b[0m\u001b[0;34m)\u001b[0m\u001b[0;34m:\u001b[0m\u001b[0;34m\u001b[0m\u001b[0;34m\u001b[0m\u001b[0m\n\u001b[1;32m     16\u001b[0m         \u001b[0;34m\"\"\"Add item to the queue.\"\"\"\u001b[0m\u001b[0;34m\u001b[0m\u001b[0;34m\u001b[0m\u001b[0m\n\u001b[0;32m---> 17\u001b[0;31m         \u001b[0mpair\u001b[0m \u001b[0;34m=\u001b[0m \u001b[0;34m(\u001b[0m\u001b[0mself\u001b[0m\u001b[0;34m.\u001b[0m\u001b[0mkey\u001b[0m\u001b[0;34m(\u001b[0m\u001b[0mitem\u001b[0m\u001b[0;34m)\u001b[0m\u001b[0;34m,\u001b[0m \u001b[0mitem\u001b[0m\u001b[0;34m)\u001b[0m\u001b[0;34m\u001b[0m\u001b[0;34m\u001b[0m\u001b[0m\n\u001b[0m\u001b[1;32m     18\u001b[0m         \u001b[0mheapq\u001b[0m\u001b[0;34m.\u001b[0m\u001b[0mheappush\u001b[0m\u001b[0;34m(\u001b[0m\u001b[0mself\u001b[0m\u001b[0;34m.\u001b[0m\u001b[0mitems\u001b[0m\u001b[0;34m,\u001b[0m \u001b[0mpair\u001b[0m\u001b[0;34m)\u001b[0m\u001b[0;34m\u001b[0m\u001b[0;34m\u001b[0m\u001b[0m\n\u001b[1;32m     19\u001b[0m \u001b[0;34m\u001b[0m\u001b[0m\n",
            "\u001b[0;32m/tmp/ipython-input-3463782677.py\u001b[0m in \u001b[0;36m<lambda>\u001b[0;34m(n)\u001b[0m\n\u001b[1;32m      3\u001b[0m     \u001b[0;34m\"\"\"Search nodes with minimum f(n) = g(n) + h(n).\"\"\"\u001b[0m\u001b[0;34m\u001b[0m\u001b[0;34m\u001b[0m\u001b[0m\n\u001b[1;32m      4\u001b[0m     \u001b[0mh\u001b[0m \u001b[0;34m=\u001b[0m \u001b[0mh\u001b[0m \u001b[0;32mor\u001b[0m \u001b[0mproblem\u001b[0m\u001b[0;34m.\u001b[0m\u001b[0mh\u001b[0m\u001b[0;34m\u001b[0m\u001b[0;34m\u001b[0m\u001b[0m\n\u001b[0;32m----> 5\u001b[0;31m     \u001b[0;32mreturn\u001b[0m \u001b[0mbest_first_search\u001b[0m\u001b[0;34m(\u001b[0m\u001b[0mproblem\u001b[0m\u001b[0;34m,\u001b[0m \u001b[0mf\u001b[0m\u001b[0;34m=\u001b[0m\u001b[0;32mlambda\u001b[0m \u001b[0mn\u001b[0m\u001b[0;34m:\u001b[0m \u001b[0mg\u001b[0m\u001b[0;34m(\u001b[0m\u001b[0mn\u001b[0m\u001b[0;34m)\u001b[0m \u001b[0;34m+\u001b[0m \u001b[0mh\u001b[0m\u001b[0;34m(\u001b[0m\u001b[0mn\u001b[0m\u001b[0;34m)\u001b[0m\u001b[0;34m)\u001b[0m\u001b[0;34m\u001b[0m\u001b[0;34m\u001b[0m\u001b[0m\n\u001b[0m",
            "\u001b[0;31mTypeError\u001b[0m: unsupported operand type(s) for +: 'int' and 'NoneType'"
          ]
        }
      ],
      "source": [
        "# Solve an 8 puzzle problems and count the number of moves\n",
        "len(path_states(astar_search(e5))) - 1   # why do we need to -1 here?"
      ]
    },
    {
      "cell_type": "code",
      "execution_count": 30,
      "metadata": {
        "id": "okEgQDerplh9",
        "colab": {
          "base_uri": "https://localhost:8080/",
          "height": 316
        },
        "outputId": "33504163-b4a5-49f8-89c2-729a5afe73bf"
      },
      "outputs": [
        {
          "output_type": "error",
          "ename": "TypeError",
          "evalue": "unsupported operand type(s) for +: 'int' and 'NoneType'",
          "traceback": [
            "\u001b[0;31m---------------------------------------------------------------------------\u001b[0m",
            "\u001b[0;31mTypeError\u001b[0m                                 Traceback (most recent call last)",
            "\u001b[0;32m/tmp/ipython-input-3015895951.py\u001b[0m in \u001b[0;36m<cell line: 0>\u001b[0;34m()\u001b[0m\n\u001b[1;32m      1\u001b[0m \u001b[0;31m# Print out each state\u001b[0m\u001b[0;34m\u001b[0m\u001b[0;34m\u001b[0m\u001b[0m\n\u001b[0;32m----> 2\u001b[0;31m \u001b[0;32mfor\u001b[0m \u001b[0ms\u001b[0m \u001b[0;32min\u001b[0m \u001b[0mpath_states\u001b[0m\u001b[0;34m(\u001b[0m\u001b[0mastar_search\u001b[0m\u001b[0;34m(\u001b[0m\u001b[0me1\u001b[0m\u001b[0;34m)\u001b[0m\u001b[0;34m)\u001b[0m\u001b[0;34m:\u001b[0m\u001b[0;34m\u001b[0m\u001b[0;34m\u001b[0m\u001b[0m\n\u001b[0m\u001b[1;32m      3\u001b[0m     \u001b[0mprint\u001b[0m\u001b[0;34m(\u001b[0m\u001b[0mboard8\u001b[0m\u001b[0;34m(\u001b[0m\u001b[0ms\u001b[0m\u001b[0;34m)\u001b[0m\u001b[0;34m)\u001b[0m\u001b[0;34m\u001b[0m\u001b[0;34m\u001b[0m\u001b[0m\n",
            "\u001b[0;32m/tmp/ipython-input-3463782677.py\u001b[0m in \u001b[0;36mastar_search\u001b[0;34m(problem, h)\u001b[0m\n\u001b[1;32m      3\u001b[0m     \u001b[0;34m\"\"\"Search nodes with minimum f(n) = g(n) + h(n).\"\"\"\u001b[0m\u001b[0;34m\u001b[0m\u001b[0;34m\u001b[0m\u001b[0m\n\u001b[1;32m      4\u001b[0m     \u001b[0mh\u001b[0m \u001b[0;34m=\u001b[0m \u001b[0mh\u001b[0m \u001b[0;32mor\u001b[0m \u001b[0mproblem\u001b[0m\u001b[0;34m.\u001b[0m\u001b[0mh\u001b[0m\u001b[0;34m\u001b[0m\u001b[0;34m\u001b[0m\u001b[0m\n\u001b[0;32m----> 5\u001b[0;31m     \u001b[0;32mreturn\u001b[0m \u001b[0mbest_first_search\u001b[0m\u001b[0;34m(\u001b[0m\u001b[0mproblem\u001b[0m\u001b[0;34m,\u001b[0m \u001b[0mf\u001b[0m\u001b[0;34m=\u001b[0m\u001b[0;32mlambda\u001b[0m \u001b[0mn\u001b[0m\u001b[0;34m:\u001b[0m \u001b[0mg\u001b[0m\u001b[0;34m(\u001b[0m\u001b[0mn\u001b[0m\u001b[0;34m)\u001b[0m \u001b[0;34m+\u001b[0m \u001b[0mh\u001b[0m\u001b[0;34m(\u001b[0m\u001b[0mn\u001b[0m\u001b[0;34m)\u001b[0m\u001b[0;34m)\u001b[0m\u001b[0;34m\u001b[0m\u001b[0;34m\u001b[0m\u001b[0m\n\u001b[0m",
            "\u001b[0;32m/tmp/ipython-input-3907053230.py\u001b[0m in \u001b[0;36mbest_first_search\u001b[0;34m(problem, f)\u001b[0m\n\u001b[1;32m      3\u001b[0m     \u001b[0;34m\"Search nodes with minimum f(node) value first.\"\u001b[0m\u001b[0;34m\u001b[0m\u001b[0;34m\u001b[0m\u001b[0m\n\u001b[1;32m      4\u001b[0m     \u001b[0mnode\u001b[0m \u001b[0;34m=\u001b[0m \u001b[0mNode\u001b[0m\u001b[0;34m(\u001b[0m\u001b[0mproblem\u001b[0m\u001b[0;34m.\u001b[0m\u001b[0minitial\u001b[0m\u001b[0;34m)\u001b[0m\u001b[0;34m\u001b[0m\u001b[0;34m\u001b[0m\u001b[0m\n\u001b[0;32m----> 5\u001b[0;31m     \u001b[0mfrontier\u001b[0m \u001b[0;34m=\u001b[0m \u001b[0mPriorityQueue\u001b[0m\u001b[0;34m(\u001b[0m\u001b[0;34m[\u001b[0m\u001b[0mnode\u001b[0m\u001b[0;34m]\u001b[0m\u001b[0;34m,\u001b[0m \u001b[0mkey\u001b[0m\u001b[0;34m=\u001b[0m\u001b[0mf\u001b[0m\u001b[0;34m)\u001b[0m\u001b[0;34m\u001b[0m\u001b[0;34m\u001b[0m\u001b[0m\n\u001b[0m\u001b[1;32m      6\u001b[0m     \u001b[0mreached\u001b[0m \u001b[0;34m=\u001b[0m \u001b[0;34m{\u001b[0m\u001b[0mproblem\u001b[0m\u001b[0;34m.\u001b[0m\u001b[0minitial\u001b[0m\u001b[0;34m:\u001b[0m \u001b[0mnode\u001b[0m\u001b[0;34m}\u001b[0m   \u001b[0;31m# reached dictionary format {state: node}\u001b[0m\u001b[0;34m\u001b[0m\u001b[0;34m\u001b[0m\u001b[0m\n\u001b[1;32m      7\u001b[0m     \u001b[0mpruned\u001b[0m \u001b[0;34m=\u001b[0m \u001b[0mset\u001b[0m\u001b[0;34m(\u001b[0m\u001b[0;34m)\u001b[0m  \u001b[0;31m# a set of pruned nodes\u001b[0m\u001b[0;34m\u001b[0m\u001b[0;34m\u001b[0m\u001b[0m\n",
            "\u001b[0;32m/tmp/ipython-input-1272592575.py\u001b[0m in \u001b[0;36m__init__\u001b[0;34m(self, items, key)\u001b[0m\n\u001b[1;32m     11\u001b[0m         \u001b[0mself\u001b[0m\u001b[0;34m.\u001b[0m\u001b[0mitems\u001b[0m \u001b[0;34m=\u001b[0m \u001b[0;34m[\u001b[0m\u001b[0;34m]\u001b[0m\u001b[0;34m\u001b[0m\u001b[0;34m\u001b[0m\u001b[0m\n\u001b[1;32m     12\u001b[0m         \u001b[0;32mfor\u001b[0m \u001b[0mitem\u001b[0m \u001b[0;32min\u001b[0m \u001b[0mitems\u001b[0m\u001b[0;34m:\u001b[0m\u001b[0;34m\u001b[0m\u001b[0;34m\u001b[0m\u001b[0m\n\u001b[0;32m---> 13\u001b[0;31m             \u001b[0mself\u001b[0m\u001b[0;34m.\u001b[0m\u001b[0madd\u001b[0m\u001b[0;34m(\u001b[0m\u001b[0mitem\u001b[0m\u001b[0;34m)\u001b[0m\u001b[0;34m\u001b[0m\u001b[0;34m\u001b[0m\u001b[0m\n\u001b[0m\u001b[1;32m     14\u001b[0m \u001b[0;34m\u001b[0m\u001b[0m\n\u001b[1;32m     15\u001b[0m     \u001b[0;32mdef\u001b[0m \u001b[0madd\u001b[0m\u001b[0;34m(\u001b[0m\u001b[0mself\u001b[0m\u001b[0;34m,\u001b[0m \u001b[0mitem\u001b[0m\u001b[0;34m)\u001b[0m\u001b[0;34m:\u001b[0m\u001b[0;34m\u001b[0m\u001b[0;34m\u001b[0m\u001b[0m\n",
            "\u001b[0;32m/tmp/ipython-input-1272592575.py\u001b[0m in \u001b[0;36madd\u001b[0;34m(self, item)\u001b[0m\n\u001b[1;32m     15\u001b[0m     \u001b[0;32mdef\u001b[0m \u001b[0madd\u001b[0m\u001b[0;34m(\u001b[0m\u001b[0mself\u001b[0m\u001b[0;34m,\u001b[0m \u001b[0mitem\u001b[0m\u001b[0;34m)\u001b[0m\u001b[0;34m:\u001b[0m\u001b[0;34m\u001b[0m\u001b[0;34m\u001b[0m\u001b[0m\n\u001b[1;32m     16\u001b[0m         \u001b[0;34m\"\"\"Add item to the queue.\"\"\"\u001b[0m\u001b[0;34m\u001b[0m\u001b[0;34m\u001b[0m\u001b[0m\n\u001b[0;32m---> 17\u001b[0;31m         \u001b[0mpair\u001b[0m \u001b[0;34m=\u001b[0m \u001b[0;34m(\u001b[0m\u001b[0mself\u001b[0m\u001b[0;34m.\u001b[0m\u001b[0mkey\u001b[0m\u001b[0;34m(\u001b[0m\u001b[0mitem\u001b[0m\u001b[0;34m)\u001b[0m\u001b[0;34m,\u001b[0m \u001b[0mitem\u001b[0m\u001b[0;34m)\u001b[0m\u001b[0;34m\u001b[0m\u001b[0;34m\u001b[0m\u001b[0m\n\u001b[0m\u001b[1;32m     18\u001b[0m         \u001b[0mheapq\u001b[0m\u001b[0;34m.\u001b[0m\u001b[0mheappush\u001b[0m\u001b[0;34m(\u001b[0m\u001b[0mself\u001b[0m\u001b[0;34m.\u001b[0m\u001b[0mitems\u001b[0m\u001b[0;34m,\u001b[0m \u001b[0mpair\u001b[0m\u001b[0;34m)\u001b[0m\u001b[0;34m\u001b[0m\u001b[0;34m\u001b[0m\u001b[0m\n\u001b[1;32m     19\u001b[0m \u001b[0;34m\u001b[0m\u001b[0m\n",
            "\u001b[0;32m/tmp/ipython-input-3463782677.py\u001b[0m in \u001b[0;36m<lambda>\u001b[0;34m(n)\u001b[0m\n\u001b[1;32m      3\u001b[0m     \u001b[0;34m\"\"\"Search nodes with minimum f(n) = g(n) + h(n).\"\"\"\u001b[0m\u001b[0;34m\u001b[0m\u001b[0;34m\u001b[0m\u001b[0m\n\u001b[1;32m      4\u001b[0m     \u001b[0mh\u001b[0m \u001b[0;34m=\u001b[0m \u001b[0mh\u001b[0m \u001b[0;32mor\u001b[0m \u001b[0mproblem\u001b[0m\u001b[0;34m.\u001b[0m\u001b[0mh\u001b[0m\u001b[0;34m\u001b[0m\u001b[0;34m\u001b[0m\u001b[0m\n\u001b[0;32m----> 5\u001b[0;31m     \u001b[0;32mreturn\u001b[0m \u001b[0mbest_first_search\u001b[0m\u001b[0;34m(\u001b[0m\u001b[0mproblem\u001b[0m\u001b[0;34m,\u001b[0m \u001b[0mf\u001b[0m\u001b[0;34m=\u001b[0m\u001b[0;32mlambda\u001b[0m \u001b[0mn\u001b[0m\u001b[0;34m:\u001b[0m \u001b[0mg\u001b[0m\u001b[0;34m(\u001b[0m\u001b[0mn\u001b[0m\u001b[0;34m)\u001b[0m \u001b[0;34m+\u001b[0m \u001b[0mh\u001b[0m\u001b[0;34m(\u001b[0m\u001b[0mn\u001b[0m\u001b[0;34m)\u001b[0m\u001b[0;34m)\u001b[0m\u001b[0;34m\u001b[0m\u001b[0;34m\u001b[0m\u001b[0m\n\u001b[0m",
            "\u001b[0;31mTypeError\u001b[0m: unsupported operand type(s) for +: 'int' and 'NoneType'"
          ]
        }
      ],
      "source": [
        "# Print out each state\n",
        "for s in path_states(astar_search(e1)):\n",
        "    print(board8(s))"
      ]
    },
    {
      "cell_type": "code",
      "execution_count": 22,
      "metadata": {
        "id": "Ex3eA2xzl4qN"
      },
      "outputs": [],
      "source": []
    },
    {
      "cell_type": "markdown",
      "metadata": {
        "id": "Qb7N0fM-plm6"
      },
      "source": [
        "## Solutions"
      ]
    },
    {
      "cell_type": "markdown",
      "metadata": {
        "id": "22NHNsrPdXQZ"
      },
      "source": [
        "Best-first search code"
      ]
    },
    {
      "cell_type": "markdown",
      "metadata": {
        "id": "SZCbvJVzdap-"
      },
      "source": [
        "```\n",
        "# (Generic) Best-first search: selects a node for expansion according to an evaluation function\n",
        "def best_first_search(problem, f):\n",
        "    \"Search nodes with minimum f(node) value first.\"\n",
        "    node = Node(problem.initial)\n",
        "    frontier = PriorityQueue([node], key=f)\n",
        "    reached = {problem.initial: node}   # reached dictionary format {state: node}\n",
        "    pruned = set()  # a set of pruned nodes\n",
        "    # iterate over the nodes in the frontier\n",
        "    while frontier:\n",
        "        # pick a node from frontier - based on the PriorityQueue\n",
        "        node = frontier.pop()\n",
        "\n",
        "        # if the node is in the pruned set, we ignore this, and move on in the frontier\n",
        "        if node in pruned:\n",
        "            continue\n",
        "      \n",
        "        # test for goal state\n",
        "        if problem.is_goal(node.state):\n",
        "            return node\n",
        "\n",
        "        # if not goal, expand all child nodes\n",
        "        for child in expand(problem, node):\n",
        "            \n",
        "            # retrieve child node's state\n",
        "            s = child.state\n",
        "            \n",
        "            # if child node state not visited before\n",
        "            if s not in reached:\n",
        "                \n",
        "                # add child node to visited set\n",
        "                reached[s] = child\n",
        "                # add child node to the frontier (for future expansion)\n",
        "                frontier.add(child)\n",
        "            \n",
        "            # elseif child node state has been visited before but our new path cost is smaller\n",
        "            elif child.path_cost < reached[s].path_cost:\n",
        "\n",
        "                    # add the original node (visited before) to the pruned set\n",
        "                    pruned.add(reached[s])\n",
        "\n",
        "                    # update state: child node in dictionary\n",
        "                    reached[s] = child\n",
        "                    # add child node to the frontier (for future expansion)\n",
        "                    frontier.add(child)\n",
        "\n",
        "    return failure\n",
        "  ```"
      ]
    },
    {
      "cell_type": "markdown",
      "metadata": {
        "id": "Snw9kWqrhUNp"
      },
      "source": [
        "A* search code"
      ]
    },
    {
      "cell_type": "markdown",
      "metadata": {
        "id": "-FsOQxEIhWX_"
      },
      "source": [
        "```\n",
        "# A* method with parameterizable heuristic h, which is either supplied externally, or defined within the problem class\n",
        "def astar_search(problem, h=None):\n",
        "    \"\"\"Search nodes with minimum f(n) = g(n) + h(n).\"\"\"\n",
        "    h = h or problem.h\n",
        "    return best_first_search(problem, f=lambda n: g(n) + h(n))\n",
        "```"
      ]
    },
    {
      "cell_type": "markdown",
      "metadata": {
        "id": "Wddvz47RnwSg"
      },
      "source": [
        "The Manhattan distance heuristic"
      ]
    },
    {
      "cell_type": "markdown",
      "metadata": {
        "id": "8XHL7f_JnFp2"
      },
      "source": [
        "```\n",
        "def h2(self, node):\n",
        "        \"\"\"The Manhattan distance heuristic.\"\"\"\n",
        "        X = (0, 1, 2, 0, 1, 2, 0, 1, 2)\n",
        "        Y = (0, 0, 0, 1, 1, 1, 2, 2, 2)\n",
        "        return sum(abs(X[s] - X[g]) + abs(Y[s] - Y[g])\n",
        "                   for (s, g) in zip(node.state, self.goal) if s != 0)\n",
        "```"
      ]
    }
  ],
  "metadata": {
    "colab": {
      "provenance": [],
      "include_colab_link": true
    },
    "kernelspec": {
      "display_name": "Python 3",
      "name": "python3"
    },
    "language_info": {
      "name": "python"
    }
  },
  "nbformat": 4,
  "nbformat_minor": 0
}